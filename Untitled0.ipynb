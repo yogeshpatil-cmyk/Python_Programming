{
  "nbformat": 4,
  "nbformat_minor": 0,
  "metadata": {
    "colab": {
      "provenance": []
    },
    "kernelspec": {
      "name": "python3",
      "display_name": "Python 3"
    },
    "language_info": {
      "name": "python"
    }
  },
  "cells": [
    {
      "cell_type": "markdown",
      "source": [
        "# -------------------------------\n",
        "# 🧩 SECTION 1: BASIC SYNTAX & I/O\n",
        "# -------------------------------\n"
      ],
      "metadata": {
        "id": "KvISapIZwWWI"
      }
    },
    {
      "cell_type": "code",
      "execution_count": null,
      "metadata": {
        "id": "8rzivMomwROT"
      },
      "outputs": [],
      "source": [
        "\n",
        "# 1. Print \"Hello, Python!\"\n",
        "print(\"Hello, Python!\")"
      ]
    },
    {
      "cell_type": "code",
      "source": [
        "# 2. Input name and greet\n",
        "name = input(\"Enter your name: \")\n",
        "print(\"Hello\", name + \"!\")\n"
      ],
      "metadata": {
        "id": "sRafN07Jwjvw"
      },
      "execution_count": null,
      "outputs": []
    },
    {
      "cell_type": "code",
      "source": [
        "# 3. Add two numbers\n",
        "a = float(input(\"Enter first number: \"))\n",
        "b = float(input(\"Enter second number: \"))\n",
        "print(\"Sum =\", a + b)\n"
      ],
      "metadata": {
        "id": "3J0FB8kOwkvg"
      },
      "execution_count": null,
      "outputs": []
    },
    {
      "cell_type": "code",
      "source": [
        "# 4. Square and cube of a number\n",
        "n = int(input(\"Enter a number: \"))\n",
        "print(\"Square:\", n*2, \"Cube:\", n*3)"
      ],
      "metadata": {
        "id": "Yk5C0Kx2wqXE"
      },
      "execution_count": null,
      "outputs": []
    },
    {
      "cell_type": "code",
      "source": [
        "# 5. Swap two numbers\n",
        "x = int(input(\"Enter x: \"))\n",
        "y = int(input(\"Enter y: \"))\n",
        "x, y = y, x\n",
        "print(\"After swap: x =\", x, \"y =\", y)\n"
      ],
      "metadata": {
        "id": "ehUDnzBSwv49"
      },
      "execution_count": null,
      "outputs": []
    },
    {
      "cell_type": "code",
      "source": [
        "# 6. Celsius to Fahrenheit\n",
        "c = float(input(\"Enter Celsius: \"))\n",
        "f = (c * 9/5) + 32\n",
        "print(\"Fahrenheit:\", f)\n"
      ],
      "metadata": {
        "id": "b_yLhjJKwwul"
      },
      "execution_count": null,
      "outputs": []
    },
    {
      "cell_type": "code",
      "source": [
        "# 7. Area & Perimeter of Rectangle\n",
        "l = float(input(\"Length: \"))\n",
        "w = float(input(\"Width: \"))\n",
        "print(\"Area:\", l*w, \"Perimeter:\", 2*(l+w))\n"
      ],
      "metadata": {
        "id": "LJP4rURcwy3q"
      },
      "execution_count": null,
      "outputs": []
    },
    {
      "cell_type": "code",
      "source": [
        "# 8. Simple Interest\n",
        "p = float(input(\"Principal: \"))\n",
        "r = float(input(\"Rate: \"))\n",
        "t = float(input(\"Time: \"))\n",
        "print(\"Simple Interest =\", (p*r*t)/100)\n"
      ],
      "metadata": {
        "id": "6ho9mAIww11m"
      },
      "execution_count": null,
      "outputs": []
    }
  ]
}